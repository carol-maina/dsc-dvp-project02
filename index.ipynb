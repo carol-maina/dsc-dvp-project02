{
 "cells": [
  {
   "cell_type": "markdown",
   "id": "8f55016a",
   "metadata": {},
   "source": [
    "# Project 2: Food security Analysis in Karamoja Region. "
   ]
  },
  {
   "cell_type": "markdown",
   "id": "c5814da7-4963-44ed-af01-21ba5177493c",
   "metadata": {},
   "source": [
    "An analysis of satellite imaging on crops grown in Karamoja area collected by Dalberg Data Insights(DDI) for the 2017 crop season."
   ]
  },
  {
   "cell_type": "markdown",
   "id": "20816467-841c-4a09-b95d-209fe1180e29",
   "metadata": {},
   "source": [
    "## Introduction\n",
    "Karamoja is the most food-insecure region of Uganda. One of the main reasons is the low productivity level of the crops due to intense droughts as well as pest and disease outbreaks.\n",
    "\n",
    "In Karamoja, several NGOs provide technical support as well as farm inputs to the farmers experiencing extremely low yield. Though, they lack visibility into the overall state of the region and often need to rely on some very local sources of information to prioritize their activities. Dalberg Data Insights (DDI) has been requested to develop a new food security monitoring tool to support the decision making of one of those NGOs active in Karamoja.\n",
    "\n",
    "To do so, Dalberg Data Insights developed a methodology to remotely measure the yield of the two main staple crops of the region (i.e. sorghum and maize) based on satellite images. The agri-tech team just ran the model for the 2017 crop season."
   ]
  },
  {
   "cell_type": "markdown",
   "id": "c65830c5-6e34-4306-b346-5ef6da270ebe",
   "metadata": {},
   "source": [
    "## Objectives\n",
    "\n",
    "* To find out how maize crop performed in the area.\n",
    "* To find out the yield of the sorghum crop in the 2017 crop season.\n",
    "* To perform analysis in order to know which crop perfomed better.\n",
    "* To understand reasons as to why a crop perfomed better and be able to advise accordingly.\n",
    "* To make a presentation of the findings."
   ]
  },
  {
   "cell_type": "markdown",
   "id": "90e39db8-dea6-41b4-94d4-976873fb32ff",
   "metadata": {},
   "source": [
    "## Research question\n",
    "\n",
    "* what is the total productivity of sorghum in the districts (Kg)\n",
    "* What is the total productivity of the maize in the districts (Kg)\n",
    "* What was the area size allocated to maize farming .\n",
    "* What is area was allocated for sorghum farming .\n",
    "* What is the district size versus their productivity."
   ]
  },
  {
   "cell_type": "markdown",
   "id": "62a8039e-f94b-41b7-afd0-85d429bea2ed",
   "metadata": {},
   "source": [
    "## 1. Data Understanding\n",
    "\n",
    "I will be working with a Dalberg Data Insights(DDI) data based on satellite images to measure the yield of the two main staple crops of the region (i.e. sorghum and maize).The agri-tech team just ran the model for the 2017 crop season.\n",
    "\n",
    "The data is contained in two separate CSV files.\n",
    "\n",
    "I chose to work with the district file because the sub-counties are all found within the districts. "
   ]
  },
  {
   "cell_type": "markdown",
   "id": "e0d361f7-5464-41f0-8ac1-411beb58995b",
   "metadata": {},
   "source": [
    "## 2. Business Understanding/ research question.\n",
    "\n",
    "I will perform an open-ended Exploratory Data Analysis (EDA) to answer the questions:\n",
    "* What area was allocated to farming of each crop.\n",
    "* What is the size of each district against the land allocated for farming each crop\n",
    "* What is the total productivity for the sorghum for the subcounty (Kg)\n",
    "* What is the total productivity for the maize for the subcounty (Kg)"
   ]
  },
  {
   "cell_type": "markdown",
   "id": "a82a21a1-c0cc-4544-b5fd-03d66a79f3f4",
   "metadata": {},
   "source": [
    "## 3. Loading the  data"
   ]
  },
  {
   "cell_type": "code",
   "execution_count": 1,
   "id": "93b61815-58a7-4210-af10-fc7150db3f1c",
   "metadata": {},
   "outputs": [],
   "source": [
    "#importing libraries to use in Exploratory data Analysis\n",
    "import pandas as pd\n",
    "import numpy as np\n",
    "import seaborn as sns\n",
    "import matplotlib.pyplot as plt\n",
    "# to visualize the data plotted in the notebook\n",
    "%matplotlib inline"
   ]
  },
  {
   "cell_type": "markdown",
   "id": "0be309bc-a962-42a5-a3fd-536b1b3ff6c8",
   "metadata": {},
   "source": [
    "####    3.1   District Crop Yield Data.\n"
   ]
  },
  {
   "cell_type": "code",
   "execution_count": 2,
   "id": "b7899dd9-8fbe-4262-9954-53d31aa577e7",
   "metadata": {},
   "outputs": [
    {
     "data": {
      "text/html": [
       "<div>\n",
       "<style scoped>\n",
       "    .dataframe tbody tr th:only-of-type {\n",
       "        vertical-align: middle;\n",
       "    }\n",
       "\n",
       "    .dataframe tbody tr th {\n",
       "        vertical-align: top;\n",
       "    }\n",
       "\n",
       "    .dataframe thead th {\n",
       "        text-align: right;\n",
       "    }\n",
       "</style>\n",
       "<table border=\"1\" class=\"dataframe\">\n",
       "  <thead>\n",
       "    <tr style=\"text-align: right;\">\n",
       "      <th></th>\n",
       "      <th>OBJECTID</th>\n",
       "      <th>NAME</th>\n",
       "      <th>POP</th>\n",
       "      <th>Area</th>\n",
       "      <th>S_Yield_Ha</th>\n",
       "      <th>M_Yield_Ha</th>\n",
       "      <th>Crop_Area_Ha</th>\n",
       "      <th>S_Area_Ha</th>\n",
       "      <th>M_Area_Ha</th>\n",
       "      <th>S_Prod_Tot</th>\n",
       "      <th>M_Prod_Tot</th>\n",
       "    </tr>\n",
       "  </thead>\n",
       "  <tbody>\n",
       "    <tr>\n",
       "      <th>0</th>\n",
       "      <td>92</td>\n",
       "      <td>ABIM</td>\n",
       "      <td>90385</td>\n",
       "      <td>2771977106</td>\n",
       "      <td>449</td>\n",
       "      <td>1040</td>\n",
       "      <td>5470.068394</td>\n",
       "      <td>3277.295971</td>\n",
       "      <td>1848.621855</td>\n",
       "      <td>1471506</td>\n",
       "      <td>1922567</td>\n",
       "    </tr>\n",
       "    <tr>\n",
       "      <th>1</th>\n",
       "      <td>96</td>\n",
       "      <td>AMUDAT</td>\n",
       "      <td>101790</td>\n",
       "      <td>1643582836</td>\n",
       "      <td>205</td>\n",
       "      <td>1297</td>\n",
       "      <td>5765.443719</td>\n",
       "      <td>2973.423860</td>\n",
       "      <td>2733.661014</td>\n",
       "      <td>609552</td>\n",
       "      <td>3545558</td>\n",
       "    </tr>\n",
       "    <tr>\n",
       "      <th>2</th>\n",
       "      <td>20</td>\n",
       "      <td>KAABONG</td>\n",
       "      <td>627057</td>\n",
       "      <td>7373606003</td>\n",
       "      <td>279</td>\n",
       "      <td>945</td>\n",
       "      <td>28121.672530</td>\n",
       "      <td>20544.194960</td>\n",
       "      <td>7394.416334</td>\n",
       "      <td>5731830</td>\n",
       "      <td>6987723</td>\n",
       "    </tr>\n",
       "    <tr>\n",
       "      <th>3</th>\n",
       "      <td>85</td>\n",
       "      <td>KOTIDO</td>\n",
       "      <td>243157</td>\n",
       "      <td>3641539808</td>\n",
       "      <td>331</td>\n",
       "      <td>1148</td>\n",
       "      <td>53032.649450</td>\n",
       "      <td>50247.443900</td>\n",
       "      <td>1751.372284</td>\n",
       "      <td>16631904</td>\n",
       "      <td>2010575</td>\n",
       "    </tr>\n",
       "    <tr>\n",
       "      <th>4</th>\n",
       "      <td>5</td>\n",
       "      <td>MOROTO</td>\n",
       "      <td>127811</td>\n",
       "      <td>3570160948</td>\n",
       "      <td>128</td>\n",
       "      <td>355</td>\n",
       "      <td>5954.814048</td>\n",
       "      <td>4741.748776</td>\n",
       "      <td>1190.050606</td>\n",
       "      <td>606944</td>\n",
       "      <td>422468</td>\n",
       "    </tr>\n",
       "    <tr>\n",
       "      <th>5</th>\n",
       "      <td>54</td>\n",
       "      <td>NAKAPIRIPIRIT</td>\n",
       "      <td>146780</td>\n",
       "      <td>4216323900</td>\n",
       "      <td>356</td>\n",
       "      <td>1264</td>\n",
       "      <td>26372.698490</td>\n",
       "      <td>19237.333210</td>\n",
       "      <td>6425.788414</td>\n",
       "      <td>6848491</td>\n",
       "      <td>8122197</td>\n",
       "    </tr>\n",
       "    <tr>\n",
       "      <th>6</th>\n",
       "      <td>80</td>\n",
       "      <td>NAPAK</td>\n",
       "      <td>167625</td>\n",
       "      <td>4508782023</td>\n",
       "      <td>137</td>\n",
       "      <td>854</td>\n",
       "      <td>22944.296020</td>\n",
       "      <td>16142.015880</td>\n",
       "      <td>6543.719066</td>\n",
       "      <td>2211456</td>\n",
       "      <td>5588336</td>\n",
       "    </tr>\n",
       "  </tbody>\n",
       "</table>\n",
       "</div>"
      ],
      "text/plain": [
       "   OBJECTID           NAME     POP        Area  S_Yield_Ha  M_Yield_Ha  \\\n",
       "0        92           ABIM   90385  2771977106         449        1040   \n",
       "1        96         AMUDAT  101790  1643582836         205        1297   \n",
       "2        20        KAABONG  627057  7373606003         279         945   \n",
       "3        85         KOTIDO  243157  3641539808         331        1148   \n",
       "4         5         MOROTO  127811  3570160948         128         355   \n",
       "5        54  NAKAPIRIPIRIT  146780  4216323900         356        1264   \n",
       "6        80          NAPAK  167625  4508782023         137         854   \n",
       "\n",
       "   Crop_Area_Ha     S_Area_Ha    M_Area_Ha  S_Prod_Tot  M_Prod_Tot  \n",
       "0   5470.068394   3277.295971  1848.621855     1471506     1922567  \n",
       "1   5765.443719   2973.423860  2733.661014      609552     3545558  \n",
       "2  28121.672530  20544.194960  7394.416334     5731830     6987723  \n",
       "3  53032.649450  50247.443900  1751.372284    16631904     2010575  \n",
       "4   5954.814048   4741.748776  1190.050606      606944      422468  \n",
       "5  26372.698490  19237.333210  6425.788414     6848491     8122197  \n",
       "6  22944.296020  16142.015880  6543.719066     2211456     5588336  "
      ]
     },
     "execution_count": 2,
     "metadata": {},
     "output_type": "execute_result"
    }
   ],
   "source": [
    "# loading the district crop yield data as a pandas dataframe\n",
    "district_df = pd.read_csv('Uganda_Karamoja_District_Crop_Yield_Population.csv')\n",
    "district_df"
   ]
  },
  {
   "cell_type": "code",
   "execution_count": 3,
   "id": "0a5e2910-66db-461b-aa80-09cf91d562e6",
   "metadata": {},
   "outputs": [
    {
     "data": {
      "text/plain": [
       "(7, 11)"
      ]
     },
     "execution_count": 3,
     "metadata": {},
     "output_type": "execute_result"
    }
   ],
   "source": [
    "#Previewing the number of rows and columnsin the dataframe\n",
    "district_df.shape"
   ]
  },
  {
   "cell_type": "code",
   "execution_count": 70,
   "id": "224cde97-27fb-402a-a0af-cfa13c3a6db6",
   "metadata": {},
   "outputs": [
    {
     "name": "stdout",
     "output_type": "stream",
     "text": [
      "<class 'pandas.core.frame.DataFrame'>\n",
      "RangeIndex: 7 entries, 0 to 6\n",
      "Data columns (total 13 columns):\n",
      " #   Column                 Non-Null Count  Dtype  \n",
      "---  ------                 --------------  -----  \n",
      " 0   objectid               7 non-null      int64  \n",
      " 1   name                   7 non-null      object \n",
      " 2   pop                    7 non-null      int64  \n",
      " 3   area                   7 non-null      int64  \n",
      " 4   s_yield_ha             7 non-null      int64  \n",
      " 5   m_yield_ha             7 non-null      int64  \n",
      " 6   crop_area_ha           7 non-null      float64\n",
      " 7   s_area_ha              7 non-null      float64\n",
      " 8   m_area_ha              7 non-null      float64\n",
      " 9   s_prod_tot             7 non-null      int64  \n",
      " 10  m_prod_tot             7 non-null      int64  \n",
      " 11  s-percentage_area      7 non-null      float64\n",
      " 12  maize-percentage_area  7 non-null      float64\n",
      "dtypes: float64(5), int64(7), object(1)\n",
      "memory usage: 860.0+ bytes\n"
     ]
    }
   ],
   "source": [
    "#Previewing data types contained in the district dataset\n",
    "district_df.info()"
   ]
  },
  {
   "cell_type": "code",
   "execution_count": 5,
   "id": "80bcdd17-9823-45d1-b958-82216486017b",
   "metadata": {},
   "outputs": [
    {
     "data": {
      "text/plain": [
       "0"
      ]
     },
     "execution_count": 5,
     "metadata": {},
     "output_type": "execute_result"
    }
   ],
   "source": [
    "# Previewing missing values\n",
    "district_df.isna().sum().sum()"
   ]
  },
  {
   "cell_type": "code",
   "execution_count": 6,
   "id": "dd56c504-05e3-46e3-84b1-f90091d24bc2",
   "metadata": {},
   "outputs": [
    {
     "data": {
      "text/html": [
       "<div>\n",
       "<style scoped>\n",
       "    .dataframe tbody tr th:only-of-type {\n",
       "        vertical-align: middle;\n",
       "    }\n",
       "\n",
       "    .dataframe tbody tr th {\n",
       "        vertical-align: top;\n",
       "    }\n",
       "\n",
       "    .dataframe thead th {\n",
       "        text-align: right;\n",
       "    }\n",
       "</style>\n",
       "<table border=\"1\" class=\"dataframe\">\n",
       "  <thead>\n",
       "    <tr style=\"text-align: right;\">\n",
       "      <th></th>\n",
       "      <th>OBJECTID</th>\n",
       "      <th>POP</th>\n",
       "      <th>Area</th>\n",
       "      <th>S_Yield_Ha</th>\n",
       "      <th>M_Yield_Ha</th>\n",
       "      <th>Crop_Area_Ha</th>\n",
       "      <th>S_Area_Ha</th>\n",
       "      <th>M_Area_Ha</th>\n",
       "      <th>S_Prod_Tot</th>\n",
       "      <th>M_Prod_Tot</th>\n",
       "    </tr>\n",
       "  </thead>\n",
       "  <tbody>\n",
       "    <tr>\n",
       "      <th>count</th>\n",
       "      <td>7.000000</td>\n",
       "      <td>7.000000</td>\n",
       "      <td>7.000000e+00</td>\n",
       "      <td>7.000000</td>\n",
       "      <td>7.000000</td>\n",
       "      <td>7.000000</td>\n",
       "      <td>7.000000</td>\n",
       "      <td>7.000000</td>\n",
       "      <td>7.000000e+00</td>\n",
       "      <td>7.000000e+00</td>\n",
       "    </tr>\n",
       "    <tr>\n",
       "      <th>mean</th>\n",
       "      <td>61.714286</td>\n",
       "      <td>214943.571429</td>\n",
       "      <td>3.960853e+09</td>\n",
       "      <td>269.285714</td>\n",
       "      <td>986.142857</td>\n",
       "      <td>21094.520379</td>\n",
       "      <td>16737.636651</td>\n",
       "      <td>3983.947082</td>\n",
       "      <td>4.873098e+06</td>\n",
       "      <td>4.085632e+06</td>\n",
       "    </tr>\n",
       "    <tr>\n",
       "      <th>std</th>\n",
       "      <td>36.481567</td>\n",
       "      <td>188604.280916</td>\n",
       "      <td>1.781860e+09</td>\n",
       "      <td>119.243049</td>\n",
       "      <td>321.566700</td>\n",
       "      <td>17363.854165</td>\n",
       "      <td>16625.963460</td>\n",
       "      <td>2678.911441</td>\n",
       "      <td>5.743724e+06</td>\n",
       "      <td>2.877188e+06</td>\n",
       "    </tr>\n",
       "    <tr>\n",
       "      <th>min</th>\n",
       "      <td>5.000000</td>\n",
       "      <td>90385.000000</td>\n",
       "      <td>1.643583e+09</td>\n",
       "      <td>128.000000</td>\n",
       "      <td>355.000000</td>\n",
       "      <td>5470.068394</td>\n",
       "      <td>2973.423860</td>\n",
       "      <td>1190.050606</td>\n",
       "      <td>6.069440e+05</td>\n",
       "      <td>4.224680e+05</td>\n",
       "    </tr>\n",
       "    <tr>\n",
       "      <th>25%</th>\n",
       "      <td>37.000000</td>\n",
       "      <td>114800.500000</td>\n",
       "      <td>3.171069e+09</td>\n",
       "      <td>171.000000</td>\n",
       "      <td>899.500000</td>\n",
       "      <td>5860.128883</td>\n",
       "      <td>4009.522373</td>\n",
       "      <td>1799.997070</td>\n",
       "      <td>1.040529e+06</td>\n",
       "      <td>1.966571e+06</td>\n",
       "    </tr>\n",
       "    <tr>\n",
       "      <th>50%</th>\n",
       "      <td>80.000000</td>\n",
       "      <td>146780.000000</td>\n",
       "      <td>3.641540e+09</td>\n",
       "      <td>279.000000</td>\n",
       "      <td>1040.000000</td>\n",
       "      <td>22944.296020</td>\n",
       "      <td>16142.015880</td>\n",
       "      <td>2733.661014</td>\n",
       "      <td>2.211456e+06</td>\n",
       "      <td>3.545558e+06</td>\n",
       "    </tr>\n",
       "    <tr>\n",
       "      <th>75%</th>\n",
       "      <td>88.500000</td>\n",
       "      <td>205391.000000</td>\n",
       "      <td>4.362553e+09</td>\n",
       "      <td>343.500000</td>\n",
       "      <td>1206.000000</td>\n",
       "      <td>27247.185510</td>\n",
       "      <td>19890.764085</td>\n",
       "      <td>6484.753740</td>\n",
       "      <td>6.290160e+06</td>\n",
       "      <td>6.288030e+06</td>\n",
       "    </tr>\n",
       "    <tr>\n",
       "      <th>max</th>\n",
       "      <td>96.000000</td>\n",
       "      <td>627057.000000</td>\n",
       "      <td>7.373606e+09</td>\n",
       "      <td>449.000000</td>\n",
       "      <td>1297.000000</td>\n",
       "      <td>53032.649450</td>\n",
       "      <td>50247.443900</td>\n",
       "      <td>7394.416334</td>\n",
       "      <td>1.663190e+07</td>\n",
       "      <td>8.122197e+06</td>\n",
       "    </tr>\n",
       "  </tbody>\n",
       "</table>\n",
       "</div>"
      ],
      "text/plain": [
       "        OBJECTID            POP          Area  S_Yield_Ha   M_Yield_Ha  \\\n",
       "count   7.000000       7.000000  7.000000e+00    7.000000     7.000000   \n",
       "mean   61.714286  214943.571429  3.960853e+09  269.285714   986.142857   \n",
       "std    36.481567  188604.280916  1.781860e+09  119.243049   321.566700   \n",
       "min     5.000000   90385.000000  1.643583e+09  128.000000   355.000000   \n",
       "25%    37.000000  114800.500000  3.171069e+09  171.000000   899.500000   \n",
       "50%    80.000000  146780.000000  3.641540e+09  279.000000  1040.000000   \n",
       "75%    88.500000  205391.000000  4.362553e+09  343.500000  1206.000000   \n",
       "max    96.000000  627057.000000  7.373606e+09  449.000000  1297.000000   \n",
       "\n",
       "       Crop_Area_Ha     S_Area_Ha    M_Area_Ha    S_Prod_Tot    M_Prod_Tot  \n",
       "count      7.000000      7.000000     7.000000  7.000000e+00  7.000000e+00  \n",
       "mean   21094.520379  16737.636651  3983.947082  4.873098e+06  4.085632e+06  \n",
       "std    17363.854165  16625.963460  2678.911441  5.743724e+06  2.877188e+06  \n",
       "min     5470.068394   2973.423860  1190.050606  6.069440e+05  4.224680e+05  \n",
       "25%     5860.128883   4009.522373  1799.997070  1.040529e+06  1.966571e+06  \n",
       "50%    22944.296020  16142.015880  2733.661014  2.211456e+06  3.545558e+06  \n",
       "75%    27247.185510  19890.764085  6484.753740  6.290160e+06  6.288030e+06  \n",
       "max    53032.649450  50247.443900  7394.416334  1.663190e+07  8.122197e+06  "
      ]
     },
     "execution_count": 6,
     "metadata": {},
     "output_type": "execute_result"
    }
   ],
   "source": [
    "#finding the statistics in the district dataset\n",
    "district_df.describe()"
   ]
  },
  {
   "cell_type": "markdown",
   "id": "fe2356a2-0f1b-40aa-9f7b-6d8911abac3d",
   "metadata": {},
   "source": [
    "#### 3.2 Visual representations "
   ]
  },
  {
   "cell_type": "markdown",
   "id": "4d0543e2-7086-412f-9947-1e1fccc9070e",
   "metadata": {},
   "source": [
    "I decided to use a barchart because I wanted to plot the districts(categorical values) against numeric values.\n",
    "\n",
    "I also plotted a scatter plot to show correlation between two continous variables.\n",
    "\n",
    "Finally a heatmap to show the correlation of all numeric values."
   ]
  },
  {
   "cell_type": "code",
   "execution_count": 7,
   "id": "9992ac9d-5afe-4a65-8c26-932864bd9161",
   "metadata": {},
   "outputs": [
    {
     "data": {
      "image/png": "[encoded data removed]",
      "text/plain": [
       "<Figure size 1000x600 with 1 Axes>"
      ]
     },
     "metadata": {},
     "output_type": "display_data"
    }
   ],
   "source": [
    "# a bargraph to show sorghum productivity by district\n",
    "district_df.plot.bar(x= \"NAME\", y=\"S_Prod_Tot\", figsize=(10, 6))\n",
    "\n",
    "plt.xlabel(\"District name\")\n",
    "plt.ylabel(\"total sorghum production(Kg)\")\n",
    "plt.title(\"sorghum production per district\")\n",
    "plt.show()"
   ]
  },
  {
   "cell_type": "code",
   "execution_count": 64,
   "id": "0d1054dc-35b8-4e4f-b359-1b432f6ec6a8",
   "metadata": {},
   "outputs": [
    {
     "data": {
      "text/plain": [
       "'\\nKotido district produced the most sorghum amounting to 16631904kg, followed by Nakapiripirit at 8122197kg, then Kaabong5731830kg, Napak 2211456kg,\\nAbim 1471506kg, Amudat 609552kg. Moroto district had the least sorghum production amounting to 606944 kgs\\n'"
      ]
     },
     "execution_count": 64,
     "metadata": {},
     "output_type": "execute_result"
    }
   ],
   "source": [
    "\"\"\"\n",
    "Kotido district produced the most sorghum amounting to 16631904kg, followed by Nakapiripirit at 8122197kg, then Kaabong5731830kg, Napak 2211456kg,\n",
    "Abim 1471506kg, Amudat 609552kg. Moroto district had the least sorghum production amounting to 606944 kgs\n",
    "\"\"\"\n"
   ]
  },
  {
   "cell_type": "code",
   "execution_count": 10,
   "id": "6407ae18-6e87-424d-ad12-b8d3b2ef5aa8",
   "metadata": {},
   "outputs": [
    {
     "data": {
      "text/plain": [
       "5    8122197\n",
       "2    6987723\n",
       "6    5588336\n",
       "1    3545558\n",
       "3    2010575\n",
       "0    1922567\n",
       "4     422468\n",
       "Name: M_Prod_Tot, dtype: int64"
      ]
     },
     "execution_count": 10,
     "metadata": {},
     "output_type": "execute_result"
    }
   ],
   "source": [
    "district_df['M_Prod_Tot'].sort_values(ascending= False)"
   ]
  },
  {
   "cell_type": "code",
   "execution_count": 12,
   "id": "d2d0f397-683e-4fac-9bcc-40c606e0f173",
   "metadata": {},
   "outputs": [
    {
     "data": {
      "image/png": "[encoded data removed]",
      "text/plain": [
       "<Figure size 1000x600 with 1 Axes>"
      ]
     },
     "metadata": {},
     "output_type": "display_data"
    }
   ],
   "source": [
    "# a bargraph to show maize productivity by district\n",
    "district_df.plot.bar(x= \"NAME\", y=\"M_Prod_Tot\", figsize=(10, 6))\n",
    "\n",
    "plt.xlabel(\"District name\")\n",
    "plt.ylabel(\"total maize production(Kg)\")\n",
    "plt.title(\"maize production per district\")\n",
    "plt.show()"
   ]
  },
  {
   "cell_type": "code",
   "execution_count": 13,
   "id": "e1983cc6-19ce-434e-8ae4-fe47a2b79033",
   "metadata": {},
   "outputs": [
    {
     "data": {
      "text/plain": [
       "'\\nNakapiripirit district produced the most maize amounting to 8122197 kgs, then Kaabong produced 6987723 kgs, Napak produced 5588336 kgs,\\nAmudat 3545558 kgs, Abim 2010575 kgs ,Moroto had the least maize prodeced amounting to 422468 kgs\\n'"
      ]
     },
     "execution_count": 13,
     "metadata": {},
     "output_type": "execute_result"
    }
   ],
   "source": [
    "\"\"\"\n",
    "Nakapiripirit district produced the most maize amounting to 8122197 kgs, then Kaabong produced 6987723 kgs, Napak produced 5588336 kgs,\n",
    "Amudat 3545558 kgs, Abim 2010575 kgs ,Moroto had the least maize prodeced amounting to 422468 kgs\n",
    "\"\"\""
   ]
  },
  {
   "cell_type": "code",
   "execution_count": 15,
   "id": "04206db6-06b3-4c23-8c55-be8203669bf3",
   "metadata": {},
   "outputs": [
    {
     "data": {
      "text/plain": [
       "2    7373606003\n",
       "6    4508782023\n",
       "5    4216323900\n",
       "3    3641539808\n",
       "4    3570160948\n",
       "0    2771977106\n",
       "1    1643582836\n",
       "Name: Area, dtype: int64"
      ]
     },
     "execution_count": 15,
     "metadata": {},
     "output_type": "execute_result"
    }
   ],
   "source": [
    "district_df['Area'].sort_values(ascending= False)"
   ]
  },
  {
   "cell_type": "code",
   "execution_count": 17,
   "id": "eb9fbf53-8c36-4129-9500-0bef5c6a9e7e",
   "metadata": {},
   "outputs": [
    {
     "data": {
      "image/png": "[encoded data removed]",
      "text/plain": [
       "<Figure size 1000x600 with 1 Axes>"
      ]
     },
     "metadata": {},
     "output_type": "display_data"
    }
   ],
   "source": [
    "# a bargraph to district in terms of area size\n",
    "district_df.plot.bar(x= \"NAME\", y=\"Area\", figsize=(10, 6))\n",
    "\n",
    "plt.xlabel(\"District name\")\n",
    "plt.ylabel(\"Area of District(Ha)\")\n",
    "plt.title(\"District size by area in Hectares\")\n",
    "plt.show()"
   ]
  },
  {
   "cell_type": "code",
   "execution_count": 18,
   "id": "bd53124b-f59f-4ad8-b78e-89996cf5a29f",
   "metadata": {},
   "outputs": [
    {
     "data": {
      "text/plain": [
       "'\\nKaabong district is the largest at 7373606003 Ha ,then Napak at 4508782023, Nakapiripirit is 4216323900, Kotido is 3641539808,\\nMoroto is 3570160948, Abim is 2771977106,Amudat is the smallest district with size of 1643582836 Ha.\\n'"
      ]
     },
     "execution_count": 18,
     "metadata": {},
     "output_type": "execute_result"
    }
   ],
   "source": [
    "\"\"\"\n",
    "Kaabong district is the largest at 7373606003 Ha ,then Napak at 4508782023, Nakapiripirit is 4216323900, Kotido is 3641539808,\n",
    "Moroto is 3570160948, Abim is 2771977106,Amudat is the smallest district with size of 1643582836 Ha.\n",
    "\"\"\""
   ]
  },
  {
   "cell_type": "code",
   "execution_count": 19,
   "id": "f9088894-7515-495c-b782-86db0fd3115c",
   "metadata": {},
   "outputs": [
    {
     "data": {
      "text/plain": [
       "2    627057\n",
       "3    243157\n",
       "6    167625\n",
       "5    146780\n",
       "4    127811\n",
       "1    101790\n",
       "0     90385\n",
       "Name: POP, dtype: int64"
      ]
     },
     "execution_count": 19,
     "metadata": {},
     "output_type": "execute_result"
    }
   ],
   "source": [
    "district_df['POP'].sort_values(ascending= False)"
   ]
  },
  {
   "cell_type": "code",
   "execution_count": 20,
   "id": "57dbcb5e-f513-4b38-8e2e-2f8360cee9e4",
   "metadata": {},
   "outputs": [
    {
     "data": {
      "image/png": "[encoded data removed]",
      "text/plain": [
       "<Figure size 1000x600 with 1 Axes>"
      ]
     },
     "metadata": {},
     "output_type": "display_data"
    }
   ],
   "source": [
    "# a bargraph to district in terms of population\n",
    "district_df.plot.bar(x= \"NAME\", y=\"POP\", figsize=(10, 6))\n",
    "\n",
    "plt.xlabel(\"District name\")\n",
    "plt.ylabel(\"Population of District\")\n",
    "plt.title(\"District size by population\")\n",
    "plt.show()"
   ]
  },
  {
   "cell_type": "code",
   "execution_count": 21,
   "id": "0d70185c-0d1e-40d0-a29a-bc830ebdff80",
   "metadata": {},
   "outputs": [
    {
     "data": {
      "text/plain": [
       "'\\nKaabong is the most populated district with a population of 627057 ,then Kotido at243157 , Napak at 167625, Nakapiripirit at 146780 ,\\nMoroto at 127811, Amudat at 101790, Abim is the least populated at 90385.\\n'"
      ]
     },
     "execution_count": 21,
     "metadata": {},
     "output_type": "execute_result"
    }
   ],
   "source": [
    "\"\"\"\n",
    "Kaabong is the most populated district with a population of 627057 ,then Kotido at243157 , Napak at 167625, Nakapiripirit at 146780 ,\n",
    "Moroto at 127811, Amudat at 101790, Abim is the least populated at 90385.\n",
    "\"\"\"\n"
   ]
  },
  {
   "cell_type": "code",
   "execution_count": 24,
   "id": "d6187041-76cb-4e4f-9900-30072d0dfe6d",
   "metadata": {},
   "outputs": [
    {
     "data": {
      "image/png": "[encoded data removed]",
      "text/plain": [
       "<Figure size 1000x600 with 1 Axes>"
      ]
     },
     "metadata": {},
     "output_type": "display_data"
    }
   ],
   "source": [
    "# a bargraph to district in terms of total crop production area\n",
    "district_df.plot.bar(x= \"NAME\", y=\"Crop_Area_Ha\", figsize=(10, 6))\n",
    "plt.xlabel(\"District name\")\n",
    "plt.ylabel(\"total crop production area\")\n",
    "plt.title(\"District by total crop production area\")\n",
    "plt.show()"
   ]
  },
  {
   "cell_type": "code",
   "execution_count": 25,
   "id": "5757b654-335f-41f5-bf8c-681d31ca8b33",
   "metadata": {},
   "outputs": [
    {
     "data": {
      "image/png": "[encoded data removed]",
      "text/plain": [
       "<Figure size 640x480 with 1 Axes>"
      ]
     },
     "metadata": {},
     "output_type": "display_data"
    }
   ],
   "source": [
    "ax = sns.scatterplot(x=\"POP\", y=\"Crop_Area_Ha\", data=district_df)\n",
    "ax.set_title(\"population of district vs. Total crop area in hacters\")\n",
    "ax.set_xlabel(\"population\")\n",
    "plt.show()"
   ]
  },
  {
   "cell_type": "code",
   "execution_count": 26,
   "id": "5a453270-3507-4419-852d-87291434df5f",
   "metadata": {},
   "outputs": [
    {
     "data": {
      "text/plain": [
       "\"\\nThere's no correlation between population of a district and the area used for crop farming.\\n\""
      ]
     },
     "execution_count": 26,
     "metadata": {},
     "output_type": "execute_result"
    }
   ],
   "source": [
    "\"\"\"\n",
    "There's no correlation between population of a district and the area used for crop farming.\n",
    "\"\"\""
   ]
  },
  {
   "cell_type": "code",
   "execution_count": 27,
   "id": "fa92a4c1-3955-4bb3-a61f-42e0adcf4f99",
   "metadata": {},
   "outputs": [
    {
     "data": {
      "text/plain": [
       "Index(['OBJECTID', 'POP', 'Area', 'S_Yield_Ha', 'M_Yield_Ha', 'Crop_Area_Ha',\n",
       "       'S_Area_Ha', 'M_Area_Ha', 'S_Prod_Tot', 'M_Prod_Tot'],\n",
       "      dtype='object')"
      ]
     },
     "execution_count": 27,
     "metadata": {},
     "output_type": "execute_result"
    }
   ],
   "source": [
    "#selecting numeric columns\n",
    "numeric_columns= district_df.select_dtypes(include=['float64', 'int64']).columns\n",
    "numeric_columns"
   ]
  },
  {
   "cell_type": "code",
   "execution_count": 28,
   "id": "00d8f80b-36ab-4fd9-b0b1-fd8da2348ad2",
   "metadata": {},
   "outputs": [
    {
     "data": {
      "text/html": [
       "<div>\n",
       "<style scoped>\n",
       "    .dataframe tbody tr th:only-of-type {\n",
       "        vertical-align: middle;\n",
       "    }\n",
       "\n",
       "    .dataframe tbody tr th {\n",
       "        vertical-align: top;\n",
       "    }\n",
       "\n",
       "    .dataframe thead th {\n",
       "        text-align: right;\n",
       "    }\n",
       "</style>\n",
       "<table border=\"1\" class=\"dataframe\">\n",
       "  <thead>\n",
       "    <tr style=\"text-align: right;\">\n",
       "      <th></th>\n",
       "      <th>OBJECTID</th>\n",
       "      <th>POP</th>\n",
       "      <th>Area</th>\n",
       "      <th>S_Yield_Ha</th>\n",
       "      <th>M_Yield_Ha</th>\n",
       "      <th>Crop_Area_Ha</th>\n",
       "      <th>S_Area_Ha</th>\n",
       "      <th>M_Area_Ha</th>\n",
       "      <th>S_Prod_Tot</th>\n",
       "      <th>M_Prod_Tot</th>\n",
       "    </tr>\n",
       "  </thead>\n",
       "  <tbody>\n",
       "    <tr>\n",
       "      <th>OBJECTID</th>\n",
       "      <td>1.000000</td>\n",
       "      <td>-0.474371</td>\n",
       "      <td>-0.602633</td>\n",
       "      <td>0.352307</td>\n",
       "      <td>0.696278</td>\n",
       "      <td>0.079865</td>\n",
       "      <td>0.107743</td>\n",
       "      <td>-0.196739</td>\n",
       "      <td>0.132700</td>\n",
       "      <td>-0.078300</td>\n",
       "    </tr>\n",
       "    <tr>\n",
       "      <th>POP</th>\n",
       "      <td>-0.474371</td>\n",
       "      <td>1.000000</td>\n",
       "      <td>0.891900</td>\n",
       "      <td>0.024405</td>\n",
       "      <td>-0.032883</td>\n",
       "      <td>0.424930</td>\n",
       "      <td>0.353520</td>\n",
       "      <td>0.562697</td>\n",
       "      <td>0.300750</td>\n",
       "      <td>0.442555</td>\n",
       "    </tr>\n",
       "    <tr>\n",
       "      <th>Area</th>\n",
       "      <td>-0.602633</td>\n",
       "      <td>0.891900</td>\n",
       "      <td>1.000000</td>\n",
       "      <td>-0.036377</td>\n",
       "      <td>-0.212716</td>\n",
       "      <td>0.410245</td>\n",
       "      <td>0.310478</td>\n",
       "      <td>0.729935</td>\n",
       "      <td>0.224938</td>\n",
       "      <td>0.574620</td>\n",
       "    </tr>\n",
       "    <tr>\n",
       "      <th>S_Yield_Ha</th>\n",
       "      <td>0.352307</td>\n",
       "      <td>0.024405</td>\n",
       "      <td>-0.036377</td>\n",
       "      <td>1.000000</td>\n",
       "      <td>0.565185</td>\n",
       "      <td>0.206778</td>\n",
       "      <td>0.215317</td>\n",
       "      <td>-0.073130</td>\n",
       "      <td>0.370599</td>\n",
       "      <td>0.104401</td>\n",
       "    </tr>\n",
       "    <tr>\n",
       "      <th>M_Yield_Ha</th>\n",
       "      <td>0.696278</td>\n",
       "      <td>-0.032883</td>\n",
       "      <td>-0.212716</td>\n",
       "      <td>0.565185</td>\n",
       "      <td>1.000000</td>\n",
       "      <td>0.300017</td>\n",
       "      <td>0.268343</td>\n",
       "      <td>0.212479</td>\n",
       "      <td>0.356662</td>\n",
       "      <td>0.449512</td>\n",
       "    </tr>\n",
       "    <tr>\n",
       "      <th>Crop_Area_Ha</th>\n",
       "      <td>0.079865</td>\n",
       "      <td>0.424930</td>\n",
       "      <td>0.410245</td>\n",
       "      <td>0.206778</td>\n",
       "      <td>0.300017</td>\n",
       "      <td>1.000000</td>\n",
       "      <td>0.988370</td>\n",
       "      <td>0.233298</td>\n",
       "      <td>0.952850</td>\n",
       "      <td>0.252674</td>\n",
       "    </tr>\n",
       "    <tr>\n",
       "      <th>S_Area_Ha</th>\n",
       "      <td>0.107743</td>\n",
       "      <td>0.353520</td>\n",
       "      <td>0.310478</td>\n",
       "      <td>0.215317</td>\n",
       "      <td>0.268343</td>\n",
       "      <td>0.988370</td>\n",
       "      <td>1.000000</td>\n",
       "      <td>0.083128</td>\n",
       "      <td>0.976447</td>\n",
       "      <td>0.108703</td>\n",
       "    </tr>\n",
       "    <tr>\n",
       "      <th>M_Area_Ha</th>\n",
       "      <td>-0.196739</td>\n",
       "      <td>0.562697</td>\n",
       "      <td>0.729935</td>\n",
       "      <td>-0.073130</td>\n",
       "      <td>0.212479</td>\n",
       "      <td>0.233298</td>\n",
       "      <td>0.083128</td>\n",
       "      <td>1.000000</td>\n",
       "      <td>-0.008665</td>\n",
       "      <td>0.946280</td>\n",
       "    </tr>\n",
       "    <tr>\n",
       "      <th>S_Prod_Tot</th>\n",
       "      <td>0.132700</td>\n",
       "      <td>0.300750</td>\n",
       "      <td>0.224938</td>\n",
       "      <td>0.370599</td>\n",
       "      <td>0.356662</td>\n",
       "      <td>0.952850</td>\n",
       "      <td>0.976447</td>\n",
       "      <td>-0.008665</td>\n",
       "      <td>1.000000</td>\n",
       "      <td>0.074169</td>\n",
       "    </tr>\n",
       "    <tr>\n",
       "      <th>M_Prod_Tot</th>\n",
       "      <td>-0.078300</td>\n",
       "      <td>0.442555</td>\n",
       "      <td>0.574620</td>\n",
       "      <td>0.104401</td>\n",
       "      <td>0.449512</td>\n",
       "      <td>0.252674</td>\n",
       "      <td>0.108703</td>\n",
       "      <td>0.946280</td>\n",
       "      <td>0.074169</td>\n",
       "      <td>1.000000</td>\n",
       "    </tr>\n",
       "  </tbody>\n",
       "</table>\n",
       "</div>"
      ],
      "text/plain": [
       "              OBJECTID       POP      Area  S_Yield_Ha  M_Yield_Ha  \\\n",
       "OBJECTID      1.000000 -0.474371 -0.602633    0.352307    0.696278   \n",
       "POP          -0.474371  1.000000  0.891900    0.024405   -0.032883   \n",
       "Area         -0.602633  0.891900  1.000000   -0.036377   -0.212716   \n",
       "S_Yield_Ha    0.352307  0.024405 -0.036377    1.000000    0.565185   \n",
       "M_Yield_Ha    0.696278 -0.032883 -0.212716    0.565185    1.000000   \n",
       "Crop_Area_Ha  0.079865  0.424930  0.410245    0.206778    0.300017   \n",
       "S_Area_Ha     0.107743  0.353520  0.310478    0.215317    0.268343   \n",
       "M_Area_Ha    -0.196739  0.562697  0.729935   -0.073130    0.212479   \n",
       "S_Prod_Tot    0.132700  0.300750  0.224938    0.370599    0.356662   \n",
       "M_Prod_Tot   -0.078300  0.442555  0.574620    0.104401    0.449512   \n",
       "\n",
       "              Crop_Area_Ha  S_Area_Ha  M_Area_Ha  S_Prod_Tot  M_Prod_Tot  \n",
       "OBJECTID          0.079865   0.107743  -0.196739    0.132700   -0.078300  \n",
       "POP               0.424930   0.353520   0.562697    0.300750    0.442555  \n",
       "Area              0.410245   0.310478   0.729935    0.224938    0.574620  \n",
       "S_Yield_Ha        0.206778   0.215317  -0.073130    0.370599    0.104401  \n",
       "M_Yield_Ha        0.300017   0.268343   0.212479    0.356662    0.449512  \n",
       "Crop_Area_Ha      1.000000   0.988370   0.233298    0.952850    0.252674  \n",
       "S_Area_Ha         0.988370   1.000000   0.083128    0.976447    0.108703  \n",
       "M_Area_Ha         0.233298   0.083128   1.000000   -0.008665    0.946280  \n",
       "S_Prod_Tot        0.952850   0.976447  -0.008665    1.000000    0.074169  \n",
       "M_Prod_Tot        0.252674   0.108703   0.946280    0.074169    1.000000  "
      ]
     },
     "execution_count": 28,
     "metadata": {},
     "output_type": "execute_result"
    }
   ],
   "source": [
    "#showing corellations between the numeric columns\n",
    "corr_numeric_columns=district_df[numeric_columns].corr()\n",
    "corr_numeric_columns"
   ]
  },
  {
   "cell_type": "code",
   "execution_count": 29,
   "id": "72f7086e-618e-4f79-8157-7b54b073677d",
   "metadata": {},
   "outputs": [
    {
     "data": {
      "image/png": "[encoded data removed]",
      "text/plain": [
       "<Figure size 640x480 with 2 Axes>"
      ]
     },
     "metadata": {},
     "output_type": "display_data"
    }
   ],
   "source": [
    "# heatmap of correlation of numeric values in the district dataframe\n",
    "sns.heatmap(corr_numeric_columns)\n",
    "plt.show()"
   ]
  },
  {
   "cell_type": "markdown",
   "id": "589fe6b2-a03b-4de2-8753-8d42c272e879",
   "metadata": {},
   "source": [
    "## 4. Engineering a new feature\n",
    "\n",
    "To calculate the percentage area that was allocated to plant the two crops against the total area set for crop farming."
   ]
  },
  {
   "cell_type": "code",
   "execution_count": 30,
   "id": "eb10c74d-99e7-403c-92a8-5bce3b655190",
   "metadata": {},
   "outputs": [],
   "source": [
    "# percentage area of crop production in each district\n",
    "def crop_percentage(column1, column2):\n",
    "    (column1/column2)*100\n",
    "    return crop_percentage"
   ]
  },
  {
   "cell_type": "code",
   "execution_count": 31,
   "id": "a8055b0a-00f8-4c59-8480-3ea24d900805",
   "metadata": {},
   "outputs": [
    {
     "data": {
      "text/plain": [
       "0    59.913254\n",
       "1    51.573201\n",
       "2    73.054670\n",
       "3    94.748130\n",
       "4    79.628830\n",
       "5    72.944121\n",
       "6    70.353067\n",
       "Name: S-percentage_Area, dtype: float64"
      ]
     },
     "execution_count": 31,
     "metadata": {},
     "output_type": "execute_result"
    }
   ],
   "source": [
    "district_df['S-percentage_Area']= district_df['S_Area_Ha']/ district_df['Crop_Area_Ha'] *100\n",
    "district_df['S-percentage_Area']"
   ]
  },
  {
   "cell_type": "code",
   "execution_count": 32,
   "id": "df226559-0ba5-4aa3-b2b0-0cad1e31a809",
   "metadata": {},
   "outputs": [
    {
     "data": {
      "text/plain": [
       "0    33.795224\n",
       "1    47.414582\n",
       "2    26.294369\n",
       "3     3.302442\n",
       "4    19.984681\n",
       "5    24.365305\n",
       "6    28.520025\n",
       "Name: Maize-percentage_Area, dtype: float64"
      ]
     },
     "execution_count": 32,
     "metadata": {},
     "output_type": "execute_result"
    }
   ],
   "source": [
    "district_df['Maize-percentage_Area']= district_df['M_Area_Ha']/ district_df['Crop_Area_Ha'] *100\n",
    "district_df['Maize-percentage_Area']"
   ]
  },
  {
   "cell_type": "code",
   "execution_count": 33,
   "id": "3f51c634-df8f-4d4e-bd24-cc738e949ae3",
   "metadata": {},
   "outputs": [
    {
     "data": {
      "text/html": [
       "<div>\n",
       "<style scoped>\n",
       "    .dataframe tbody tr th:only-of-type {\n",
       "        vertical-align: middle;\n",
       "    }\n",
       "\n",
       "    .dataframe tbody tr th {\n",
       "        vertical-align: top;\n",
       "    }\n",
       "\n",
       "    .dataframe thead th {\n",
       "        text-align: right;\n",
       "    }\n",
       "</style>\n",
       "<table border=\"1\" class=\"dataframe\">\n",
       "  <thead>\n",
       "    <tr style=\"text-align: right;\">\n",
       "      <th></th>\n",
       "      <th>OBJECTID</th>\n",
       "      <th>NAME</th>\n",
       "      <th>POP</th>\n",
       "      <th>Area</th>\n",
       "      <th>S_Yield_Ha</th>\n",
       "      <th>M_Yield_Ha</th>\n",
       "      <th>Crop_Area_Ha</th>\n",
       "      <th>S_Area_Ha</th>\n",
       "      <th>M_Area_Ha</th>\n",
       "      <th>S_Prod_Tot</th>\n",
       "      <th>M_Prod_Tot</th>\n",
       "      <th>S-percentage_Area</th>\n",
       "      <th>Maize-percentage_Area</th>\n",
       "    </tr>\n",
       "  </thead>\n",
       "  <tbody>\n",
       "    <tr>\n",
       "      <th>0</th>\n",
       "      <td>92</td>\n",
       "      <td>ABIM</td>\n",
       "      <td>90385</td>\n",
       "      <td>2771977106</td>\n",
       "      <td>449</td>\n",
       "      <td>1040</td>\n",
       "      <td>5470.068394</td>\n",
       "      <td>3277.295971</td>\n",
       "      <td>1848.621855</td>\n",
       "      <td>1471506</td>\n",
       "      <td>1922567</td>\n",
       "      <td>59.913254</td>\n",
       "      <td>33.795224</td>\n",
       "    </tr>\n",
       "    <tr>\n",
       "      <th>1</th>\n",
       "      <td>96</td>\n",
       "      <td>AMUDAT</td>\n",
       "      <td>101790</td>\n",
       "      <td>1643582836</td>\n",
       "      <td>205</td>\n",
       "      <td>1297</td>\n",
       "      <td>5765.443719</td>\n",
       "      <td>2973.423860</td>\n",
       "      <td>2733.661014</td>\n",
       "      <td>609552</td>\n",
       "      <td>3545558</td>\n",
       "      <td>51.573201</td>\n",
       "      <td>47.414582</td>\n",
       "    </tr>\n",
       "    <tr>\n",
       "      <th>2</th>\n",
       "      <td>20</td>\n",
       "      <td>KAABONG</td>\n",
       "      <td>627057</td>\n",
       "      <td>7373606003</td>\n",
       "      <td>279</td>\n",
       "      <td>945</td>\n",
       "      <td>28121.672530</td>\n",
       "      <td>20544.194960</td>\n",
       "      <td>7394.416334</td>\n",
       "      <td>5731830</td>\n",
       "      <td>6987723</td>\n",
       "      <td>73.054670</td>\n",
       "      <td>26.294369</td>\n",
       "    </tr>\n",
       "    <tr>\n",
       "      <th>3</th>\n",
       "      <td>85</td>\n",
       "      <td>KOTIDO</td>\n",
       "      <td>243157</td>\n",
       "      <td>3641539808</td>\n",
       "      <td>331</td>\n",
       "      <td>1148</td>\n",
       "      <td>53032.649450</td>\n",
       "      <td>50247.443900</td>\n",
       "      <td>1751.372284</td>\n",
       "      <td>16631904</td>\n",
       "      <td>2010575</td>\n",
       "      <td>94.748130</td>\n",
       "      <td>3.302442</td>\n",
       "    </tr>\n",
       "    <tr>\n",
       "      <th>4</th>\n",
       "      <td>5</td>\n",
       "      <td>MOROTO</td>\n",
       "      <td>127811</td>\n",
       "      <td>3570160948</td>\n",
       "      <td>128</td>\n",
       "      <td>355</td>\n",
       "      <td>5954.814048</td>\n",
       "      <td>4741.748776</td>\n",
       "      <td>1190.050606</td>\n",
       "      <td>606944</td>\n",
       "      <td>422468</td>\n",
       "      <td>79.628830</td>\n",
       "      <td>19.984681</td>\n",
       "    </tr>\n",
       "  </tbody>\n",
       "</table>\n",
       "</div>"
      ],
      "text/plain": [
       "   OBJECTID     NAME     POP        Area  S_Yield_Ha  M_Yield_Ha  \\\n",
       "0        92     ABIM   90385  2771977106         449        1040   \n",
       "1        96   AMUDAT  101790  1643582836         205        1297   \n",
       "2        20  KAABONG  627057  7373606003         279         945   \n",
       "3        85   KOTIDO  243157  3641539808         331        1148   \n",
       "4         5   MOROTO  127811  3570160948         128         355   \n",
       "\n",
       "   Crop_Area_Ha     S_Area_Ha    M_Area_Ha  S_Prod_Tot  M_Prod_Tot  \\\n",
       "0   5470.068394   3277.295971  1848.621855     1471506     1922567   \n",
       "1   5765.443719   2973.423860  2733.661014      609552     3545558   \n",
       "2  28121.672530  20544.194960  7394.416334     5731830     6987723   \n",
       "3  53032.649450  50247.443900  1751.372284    16631904     2010575   \n",
       "4   5954.814048   4741.748776  1190.050606      606944      422468   \n",
       "\n",
       "   S-percentage_Area  Maize-percentage_Area  \n",
       "0          59.913254              33.795224  \n",
       "1          51.573201              47.414582  \n",
       "2          73.054670              26.294369  \n",
       "3          94.748130               3.302442  \n",
       "4          79.628830              19.984681  "
      ]
     },
     "execution_count": 33,
     "metadata": {},
     "output_type": "execute_result"
    }
   ],
   "source": [
    "district_df.head()"
   ]
  },
  {
   "cell_type": "code",
   "execution_count": 68,
   "id": "057ea8c6-844c-48dd-a238-bcdd853b4bc5",
   "metadata": {},
   "outputs": [
    {
     "data": {
      "text/plain": [
       "Index(['objectid', 'name', 'pop', 'area', 's_yield_ha', 'm_yield_ha',\n",
       "       'crop_area_ha', 's_area_ha', 'm_area_ha', 's_prod_tot', 'm_prod_tot',\n",
       "       's-percentage_area', 'maize-percentage_area'],\n",
       "      dtype='object')"
      ]
     },
     "execution_count": 68,
     "metadata": {},
     "output_type": "execute_result"
    }
   ],
   "source": [
    "# changing the columns into lower \n",
    "# because they are in mixed case\n",
    "district_df.columns = district_df.columns.str.lower()\n",
    "district_df.columns\n"
   ]
  },
  {
   "cell_type": "code",
   "execution_count": 35,
   "id": "c7d44fcc-f1ef-47e1-b657-8a16d2ed1029",
   "metadata": {},
   "outputs": [
    {
     "data": {
      "text/html": [
       "<div>\n",
       "<style scoped>\n",
       "    .dataframe tbody tr th:only-of-type {\n",
       "        vertical-align: middle;\n",
       "    }\n",
       "\n",
       "    .dataframe tbody tr th {\n",
       "        vertical-align: top;\n",
       "    }\n",
       "\n",
       "    .dataframe thead th {\n",
       "        text-align: right;\n",
       "    }\n",
       "</style>\n",
       "<table border=\"1\" class=\"dataframe\">\n",
       "  <thead>\n",
       "    <tr style=\"text-align: right;\">\n",
       "      <th></th>\n",
       "      <th>objectid</th>\n",
       "      <th>name</th>\n",
       "      <th>pop</th>\n",
       "      <th>area</th>\n",
       "      <th>s_yield_ha</th>\n",
       "      <th>m_yield_ha</th>\n",
       "      <th>crop_area_ha</th>\n",
       "      <th>s_area_ha</th>\n",
       "      <th>m_area_ha</th>\n",
       "      <th>s_prod_tot</th>\n",
       "      <th>m_prod_tot</th>\n",
       "      <th>s-percentage_area</th>\n",
       "      <th>maize-percentage_area</th>\n",
       "    </tr>\n",
       "  </thead>\n",
       "  <tbody>\n",
       "    <tr>\n",
       "      <th>0</th>\n",
       "      <td>92</td>\n",
       "      <td>ABIM</td>\n",
       "      <td>90385</td>\n",
       "      <td>2771977106</td>\n",
       "      <td>449</td>\n",
       "      <td>1040</td>\n",
       "      <td>5470.068394</td>\n",
       "      <td>3277.295971</td>\n",
       "      <td>1848.621855</td>\n",
       "      <td>1471506</td>\n",
       "      <td>1922567</td>\n",
       "      <td>59.913254</td>\n",
       "      <td>33.795224</td>\n",
       "    </tr>\n",
       "    <tr>\n",
       "      <th>1</th>\n",
       "      <td>96</td>\n",
       "      <td>AMUDAT</td>\n",
       "      <td>101790</td>\n",
       "      <td>1643582836</td>\n",
       "      <td>205</td>\n",
       "      <td>1297</td>\n",
       "      <td>5765.443719</td>\n",
       "      <td>2973.423860</td>\n",
       "      <td>2733.661014</td>\n",
       "      <td>609552</td>\n",
       "      <td>3545558</td>\n",
       "      <td>51.573201</td>\n",
       "      <td>47.414582</td>\n",
       "    </tr>\n",
       "    <tr>\n",
       "      <th>2</th>\n",
       "      <td>20</td>\n",
       "      <td>KAABONG</td>\n",
       "      <td>627057</td>\n",
       "      <td>7373606003</td>\n",
       "      <td>279</td>\n",
       "      <td>945</td>\n",
       "      <td>28121.672530</td>\n",
       "      <td>20544.194960</td>\n",
       "      <td>7394.416334</td>\n",
       "      <td>5731830</td>\n",
       "      <td>6987723</td>\n",
       "      <td>73.054670</td>\n",
       "      <td>26.294369</td>\n",
       "    </tr>\n",
       "    <tr>\n",
       "      <th>3</th>\n",
       "      <td>85</td>\n",
       "      <td>KOTIDO</td>\n",
       "      <td>243157</td>\n",
       "      <td>3641539808</td>\n",
       "      <td>331</td>\n",
       "      <td>1148</td>\n",
       "      <td>53032.649450</td>\n",
       "      <td>50247.443900</td>\n",
       "      <td>1751.372284</td>\n",
       "      <td>16631904</td>\n",
       "      <td>2010575</td>\n",
       "      <td>94.748130</td>\n",
       "      <td>3.302442</td>\n",
       "    </tr>\n",
       "    <tr>\n",
       "      <th>4</th>\n",
       "      <td>5</td>\n",
       "      <td>MOROTO</td>\n",
       "      <td>127811</td>\n",
       "      <td>3570160948</td>\n",
       "      <td>128</td>\n",
       "      <td>355</td>\n",
       "      <td>5954.814048</td>\n",
       "      <td>4741.748776</td>\n",
       "      <td>1190.050606</td>\n",
       "      <td>606944</td>\n",
       "      <td>422468</td>\n",
       "      <td>79.628830</td>\n",
       "      <td>19.984681</td>\n",
       "    </tr>\n",
       "    <tr>\n",
       "      <th>5</th>\n",
       "      <td>54</td>\n",
       "      <td>NAKAPIRIPIRIT</td>\n",
       "      <td>146780</td>\n",
       "      <td>4216323900</td>\n",
       "      <td>356</td>\n",
       "      <td>1264</td>\n",
       "      <td>26372.698490</td>\n",
       "      <td>19237.333210</td>\n",
       "      <td>6425.788414</td>\n",
       "      <td>6848491</td>\n",
       "      <td>8122197</td>\n",
       "      <td>72.944121</td>\n",
       "      <td>24.365305</td>\n",
       "    </tr>\n",
       "    <tr>\n",
       "      <th>6</th>\n",
       "      <td>80</td>\n",
       "      <td>NAPAK</td>\n",
       "      <td>167625</td>\n",
       "      <td>4508782023</td>\n",
       "      <td>137</td>\n",
       "      <td>854</td>\n",
       "      <td>22944.296020</td>\n",
       "      <td>16142.015880</td>\n",
       "      <td>6543.719066</td>\n",
       "      <td>2211456</td>\n",
       "      <td>5588336</td>\n",
       "      <td>70.353067</td>\n",
       "      <td>28.520025</td>\n",
       "    </tr>\n",
       "  </tbody>\n",
       "</table>\n",
       "</div>"
      ],
      "text/plain": [
       "   objectid           name     pop        area  s_yield_ha  m_yield_ha  \\\n",
       "0        92           ABIM   90385  2771977106         449        1040   \n",
       "1        96         AMUDAT  101790  1643582836         205        1297   \n",
       "2        20        KAABONG  627057  7373606003         279         945   \n",
       "3        85         KOTIDO  243157  3641539808         331        1148   \n",
       "4         5         MOROTO  127811  3570160948         128         355   \n",
       "5        54  NAKAPIRIPIRIT  146780  4216323900         356        1264   \n",
       "6        80          NAPAK  167625  4508782023         137         854   \n",
       "\n",
       "   crop_area_ha     s_area_ha    m_area_ha  s_prod_tot  m_prod_tot  \\\n",
       "0   5470.068394   3277.295971  1848.621855     1471506     1922567   \n",
       "1   5765.443719   2973.423860  2733.661014      609552     3545558   \n",
       "2  28121.672530  20544.194960  7394.416334     5731830     6987723   \n",
       "3  53032.649450  50247.443900  1751.372284    16631904     2010575   \n",
       "4   5954.814048   4741.748776  1190.050606      606944      422468   \n",
       "5  26372.698490  19237.333210  6425.788414     6848491     8122197   \n",
       "6  22944.296020  16142.015880  6543.719066     2211456     5588336   \n",
       "\n",
       "   s-percentage_area  maize-percentage_area  \n",
       "0          59.913254              33.795224  \n",
       "1          51.573201              47.414582  \n",
       "2          73.054670              26.294369  \n",
       "3          94.748130               3.302442  \n",
       "4          79.628830              19.984681  \n",
       "5          72.944121              24.365305  \n",
       "6          70.353067              28.520025  "
      ]
     },
     "execution_count": 35,
     "metadata": {},
     "output_type": "execute_result"
    }
   ],
   "source": [
    "district_df"
   ]
  },
  {
   "cell_type": "markdown",
   "id": "45f7e250-ff8b-47f8-b9a5-f6516423a3a4",
   "metadata": {},
   "source": [
    "#### 2. Subcounty Crop Yield Data\n",
    "\n",
    "I didn't analyse the subcounty data because, all the subcounties are within the districts."
   ]
  },
  {
   "cell_type": "code",
   "execution_count": 36,
   "id": "e21d5788-ded2-40bb-8e55-54379f06c94f",
   "metadata": {},
   "outputs": [
    {
     "data": {
      "text/html": [
       "<div>\n",
       "<style scoped>\n",
       "    .dataframe tbody tr th:only-of-type {\n",
       "        vertical-align: middle;\n",
       "    }\n",
       "\n",
       "    .dataframe tbody tr th {\n",
       "        vertical-align: top;\n",
       "    }\n",
       "\n",
       "    .dataframe thead th {\n",
       "        text-align: right;\n",
       "    }\n",
       "</style>\n",
       "<table border=\"1\" class=\"dataframe\">\n",
       "  <thead>\n",
       "    <tr style=\"text-align: right;\">\n",
       "      <th></th>\n",
       "      <th>OBJECTID</th>\n",
       "      <th>SUBCOUNTY_NAME</th>\n",
       "      <th>DISTRICT_NAME</th>\n",
       "      <th>POP</th>\n",
       "      <th>Area</th>\n",
       "      <th>Karamoja</th>\n",
       "      <th>S_Yield_Ha</th>\n",
       "      <th>M_Yield_Ha</th>\n",
       "      <th>Crop_Area_Ha</th>\n",
       "      <th>S_Area_Ha</th>\n",
       "      <th>M_Area_Ha</th>\n",
       "      <th>S_Prod_Tot</th>\n",
       "      <th>M_Prod_Tot</th>\n",
       "    </tr>\n",
       "  </thead>\n",
       "  <tbody>\n",
       "    <tr>\n",
       "      <th>0</th>\n",
       "      <td>263</td>\n",
       "      <td>KACHERI</td>\n",
       "      <td>KOTIDO</td>\n",
       "      <td>17244</td>\n",
       "      <td>1067176155</td>\n",
       "      <td>Y</td>\n",
       "      <td>354.207411</td>\n",
       "      <td>1137.467019</td>\n",
       "      <td>7023.533691</td>\n",
       "      <td>6434.342449</td>\n",
       "      <td>528.124229</td>\n",
       "      <td>2.279092e+06</td>\n",
       "      <td>600723.892900</td>\n",
       "    </tr>\n",
       "    <tr>\n",
       "      <th>1</th>\n",
       "      <td>264</td>\n",
       "      <td>KOTIDO</td>\n",
       "      <td>KOTIDO</td>\n",
       "      <td>52771</td>\n",
       "      <td>597575188</td>\n",
       "      <td>Y</td>\n",
       "      <td>367.890523</td>\n",
       "      <td>1162.996687</td>\n",
       "      <td>13587.990760</td>\n",
       "      <td>12455.592640</td>\n",
       "      <td>824.767081</td>\n",
       "      <td>4.582294e+06</td>\n",
       "      <td>959201.382500</td>\n",
       "    </tr>\n",
       "    <tr>\n",
       "      <th>2</th>\n",
       "      <td>265</td>\n",
       "      <td>KOTIDO TOWN COUNCIL</td>\n",
       "      <td>KOTIDO</td>\n",
       "      <td>27389</td>\n",
       "      <td>23972401</td>\n",
       "      <td>Y</td>\n",
       "      <td>369.314177</td>\n",
       "      <td>1167.005832</td>\n",
       "      <td>1656.531855</td>\n",
       "      <td>1520.322052</td>\n",
       "      <td>8.561644</td>\n",
       "      <td>5.614765e+05</td>\n",
       "      <td>9991.488268</td>\n",
       "    </tr>\n",
       "    <tr>\n",
       "      <th>3</th>\n",
       "      <td>266</td>\n",
       "      <td>NAKAPERIMORU</td>\n",
       "      <td>KOTIDO</td>\n",
       "      <td>38775</td>\n",
       "      <td>419111591</td>\n",
       "      <td>Y</td>\n",
       "      <td>283.324569</td>\n",
       "      <td>852.366578</td>\n",
       "      <td>7087.823334</td>\n",
       "      <td>6761.488901</td>\n",
       "      <td>45.721712</td>\n",
       "      <td>1.915696e+06</td>\n",
       "      <td>38971.659080</td>\n",
       "    </tr>\n",
       "    <tr>\n",
       "      <th>4</th>\n",
       "      <td>267</td>\n",
       "      <td>PANYANGARA</td>\n",
       "      <td>KOTIDO</td>\n",
       "      <td>65704</td>\n",
       "      <td>880955930</td>\n",
       "      <td>Y</td>\n",
       "      <td>373.836926</td>\n",
       "      <td>1283.859882</td>\n",
       "      <td>10398.249390</td>\n",
       "      <td>10111.198130</td>\n",
       "      <td>172.611914</td>\n",
       "      <td>3.779939e+06</td>\n",
       "      <td>221609.511400</td>\n",
       "    </tr>\n",
       "  </tbody>\n",
       "</table>\n",
       "</div>"
      ],
      "text/plain": [
       "   OBJECTID       SUBCOUNTY_NAME DISTRICT_NAME    POP        Area Karamoja  \\\n",
       "0       263              KACHERI        KOTIDO  17244  1067176155        Y   \n",
       "1       264               KOTIDO        KOTIDO  52771   597575188        Y   \n",
       "2       265  KOTIDO TOWN COUNCIL        KOTIDO  27389    23972401        Y   \n",
       "3       266         NAKAPERIMORU        KOTIDO  38775   419111591        Y   \n",
       "4       267           PANYANGARA        KOTIDO  65704   880955930        Y   \n",
       "\n",
       "   S_Yield_Ha   M_Yield_Ha  Crop_Area_Ha     S_Area_Ha   M_Area_Ha  \\\n",
       "0  354.207411  1137.467019   7023.533691   6434.342449  528.124229   \n",
       "1  367.890523  1162.996687  13587.990760  12455.592640  824.767081   \n",
       "2  369.314177  1167.005832   1656.531855   1520.322052    8.561644   \n",
       "3  283.324569   852.366578   7087.823334   6761.488901   45.721712   \n",
       "4  373.836926  1283.859882  10398.249390  10111.198130  172.611914   \n",
       "\n",
       "     S_Prod_Tot     M_Prod_Tot  \n",
       "0  2.279092e+06  600723.892900  \n",
       "1  4.582294e+06  959201.382500  \n",
       "2  5.614765e+05    9991.488268  \n",
       "3  1.915696e+06   38971.659080  \n",
       "4  3.779939e+06  221609.511400  "
      ]
     },
     "execution_count": 36,
     "metadata": {},
     "output_type": "execute_result"
    }
   ],
   "source": [
    "# loading the sub_county crop yields as a pandas dataframe\n",
    "subcounty_df = pd.read_csv('Uganda_Karamoja_Subcounty_Crop_Yield_Population.csv')\n",
    "# previewing the first five rows\n",
    "subcounty_df.head()"
   ]
  },
  {
   "cell_type": "code",
   "execution_count": 37,
   "id": "529d32fe-8d25-48eb-b562-4a3565128832",
   "metadata": {},
   "outputs": [
    {
     "data": {
      "text/plain": [
       "(52, 13)"
      ]
     },
     "execution_count": 37,
     "metadata": {},
     "output_type": "execute_result"
    }
   ],
   "source": [
    "# Previewing rows and columns\n",
    "subcounty_df.shape"
   ]
  },
  {
   "cell_type": "code",
   "execution_count": 38,
   "id": "e7e8080b-ce42-4fb1-baf8-31c224922924",
   "metadata": {},
   "outputs": [
    {
     "data": {
      "text/plain": [
       "0"
      ]
     },
     "execution_count": 38,
     "metadata": {},
     "output_type": "execute_result"
    }
   ],
   "source": [
    "# finding out if there are any missing values\n",
    "subcounty_df.isna().sum().sum()"
   ]
  },
  {
   "cell_type": "code",
   "execution_count": 39,
   "id": "3492087e-3de6-4766-9624-431709a3d443",
   "metadata": {},
   "outputs": [
    {
     "name": "stdout",
     "output_type": "stream",
     "text": [
      "<class 'pandas.core.frame.DataFrame'>\n",
      "RangeIndex: 52 entries, 0 to 51\n",
      "Data columns (total 13 columns):\n",
      " #   Column          Non-Null Count  Dtype  \n",
      "---  ------          --------------  -----  \n",
      " 0   OBJECTID        52 non-null     int64  \n",
      " 1   SUBCOUNTY_NAME  52 non-null     object \n",
      " 2   DISTRICT_NAME   52 non-null     object \n",
      " 3   POP             52 non-null     int64  \n",
      " 4   Area            52 non-null     int64  \n",
      " 5   Karamoja        52 non-null     object \n",
      " 6   S_Yield_Ha      52 non-null     float64\n",
      " 7   M_Yield_Ha      52 non-null     float64\n",
      " 8   Crop_Area_Ha    52 non-null     float64\n",
      " 9   S_Area_Ha       52 non-null     float64\n",
      " 10  M_Area_Ha       52 non-null     float64\n",
      " 11  S_Prod_Tot      52 non-null     float64\n",
      " 12  M_Prod_Tot      52 non-null     float64\n",
      "dtypes: float64(7), int64(3), object(3)\n",
      "memory usage: 5.4+ KB\n"
     ]
    }
   ],
   "source": [
    "# Previewing datatypes\n",
    "subcounty_df.info()"
   ]
  },
  {
   "cell_type": "code",
   "execution_count": 40,
   "id": "3bdd8813-a6ce-412c-a999-71484f739b6a",
   "metadata": {},
   "outputs": [
    {
     "data": {
      "text/html": [
       "<div>\n",
       "<style scoped>\n",
       "    .dataframe tbody tr th:only-of-type {\n",
       "        vertical-align: middle;\n",
       "    }\n",
       "\n",
       "    .dataframe tbody tr th {\n",
       "        vertical-align: top;\n",
       "    }\n",
       "\n",
       "    .dataframe thead th {\n",
       "        text-align: right;\n",
       "    }\n",
       "</style>\n",
       "<table border=\"1\" class=\"dataframe\">\n",
       "  <thead>\n",
       "    <tr style=\"text-align: right;\">\n",
       "      <th></th>\n",
       "      <th>OBJECTID</th>\n",
       "      <th>SUBCOUNTY_NAME</th>\n",
       "      <th>DISTRICT_NAME</th>\n",
       "      <th>POP</th>\n",
       "      <th>Area</th>\n",
       "      <th>S_Yield_Ha</th>\n",
       "      <th>M_Yield_Ha</th>\n",
       "      <th>Crop_Area_Ha</th>\n",
       "      <th>S_Area_Ha</th>\n",
       "      <th>M_Area_Ha</th>\n",
       "      <th>S_Prod_Tot</th>\n",
       "      <th>M_Prod_Tot</th>\n",
       "    </tr>\n",
       "  </thead>\n",
       "  <tbody>\n",
       "    <tr>\n",
       "      <th>0</th>\n",
       "      <td>263</td>\n",
       "      <td>KACHERI</td>\n",
       "      <td>KOTIDO</td>\n",
       "      <td>17244</td>\n",
       "      <td>1067176155</td>\n",
       "      <td>354.207411</td>\n",
       "      <td>1137.467019</td>\n",
       "      <td>7023.533691</td>\n",
       "      <td>6434.342449</td>\n",
       "      <td>528.124229</td>\n",
       "      <td>2.279092e+06</td>\n",
       "      <td>600723.892900</td>\n",
       "    </tr>\n",
       "    <tr>\n",
       "      <th>1</th>\n",
       "      <td>264</td>\n",
       "      <td>KOTIDO</td>\n",
       "      <td>KOTIDO</td>\n",
       "      <td>52771</td>\n",
       "      <td>597575188</td>\n",
       "      <td>367.890523</td>\n",
       "      <td>1162.996687</td>\n",
       "      <td>13587.990760</td>\n",
       "      <td>12455.592640</td>\n",
       "      <td>824.767081</td>\n",
       "      <td>4.582294e+06</td>\n",
       "      <td>959201.382500</td>\n",
       "    </tr>\n",
       "    <tr>\n",
       "      <th>2</th>\n",
       "      <td>265</td>\n",
       "      <td>KOTIDO TOWN COUNCIL</td>\n",
       "      <td>KOTIDO</td>\n",
       "      <td>27389</td>\n",
       "      <td>23972401</td>\n",
       "      <td>369.314177</td>\n",
       "      <td>1167.005832</td>\n",
       "      <td>1656.531855</td>\n",
       "      <td>1520.322052</td>\n",
       "      <td>8.561644</td>\n",
       "      <td>5.614765e+05</td>\n",
       "      <td>9991.488268</td>\n",
       "    </tr>\n",
       "    <tr>\n",
       "      <th>3</th>\n",
       "      <td>266</td>\n",
       "      <td>NAKAPERIMORU</td>\n",
       "      <td>KOTIDO</td>\n",
       "      <td>38775</td>\n",
       "      <td>419111591</td>\n",
       "      <td>283.324569</td>\n",
       "      <td>852.366578</td>\n",
       "      <td>7087.823334</td>\n",
       "      <td>6761.488901</td>\n",
       "      <td>45.721712</td>\n",
       "      <td>1.915696e+06</td>\n",
       "      <td>38971.659080</td>\n",
       "    </tr>\n",
       "    <tr>\n",
       "      <th>4</th>\n",
       "      <td>267</td>\n",
       "      <td>PANYANGARA</td>\n",
       "      <td>KOTIDO</td>\n",
       "      <td>65704</td>\n",
       "      <td>880955930</td>\n",
       "      <td>373.836926</td>\n",
       "      <td>1283.859882</td>\n",
       "      <td>10398.249390</td>\n",
       "      <td>10111.198130</td>\n",
       "      <td>172.611914</td>\n",
       "      <td>3.779939e+06</td>\n",
       "      <td>221609.511400</td>\n",
       "    </tr>\n",
       "  </tbody>\n",
       "</table>\n",
       "</div>"
      ],
      "text/plain": [
       "   OBJECTID       SUBCOUNTY_NAME DISTRICT_NAME    POP        Area  S_Yield_Ha  \\\n",
       "0       263              KACHERI        KOTIDO  17244  1067176155  354.207411   \n",
       "1       264               KOTIDO        KOTIDO  52771   597575188  367.890523   \n",
       "2       265  KOTIDO TOWN COUNCIL        KOTIDO  27389    23972401  369.314177   \n",
       "3       266         NAKAPERIMORU        KOTIDO  38775   419111591  283.324569   \n",
       "4       267           PANYANGARA        KOTIDO  65704   880955930  373.836926   \n",
       "\n",
       "    M_Yield_Ha  Crop_Area_Ha     S_Area_Ha   M_Area_Ha    S_Prod_Tot  \\\n",
       "0  1137.467019   7023.533691   6434.342449  528.124229  2.279092e+06   \n",
       "1  1162.996687  13587.990760  12455.592640  824.767081  4.582294e+06   \n",
       "2  1167.005832   1656.531855   1520.322052    8.561644  5.614765e+05   \n",
       "3   852.366578   7087.823334   6761.488901   45.721712  1.915696e+06   \n",
       "4  1283.859882  10398.249390  10111.198130  172.611914  3.779939e+06   \n",
       "\n",
       "      M_Prod_Tot  \n",
       "0  600723.892900  \n",
       "1  959201.382500  \n",
       "2    9991.488268  \n",
       "3   38971.659080  \n",
       "4  221609.511400  "
      ]
     },
     "execution_count": 40,
     "metadata": {},
     "output_type": "execute_result"
    }
   ],
   "source": [
    "# dropping the Karamoja column because the values don't make sense.\n",
    "subcounty_df.drop('Karamoja', axis=1, inplace=True)\n",
    "#previewing columns after dropping the karamoja column\n",
    "subcounty_df.head()"
   ]
  },
  {
   "cell_type": "code",
   "execution_count": 58,
   "id": "1a58fc9c-3483-4f3c-aa06-e12fd45fda42",
   "metadata": {},
   "outputs": [
    {
     "data": {
      "text/plain": [
       "7"
      ]
     },
     "execution_count": 58,
     "metadata": {},
     "output_type": "execute_result"
    }
   ],
   "source": [
    "# number of districts in the subcounty dataframe\n",
    "District_value_counts = subcounty_df[\"DISTRICT_NAME\"].value_counts()\n",
    "len(District_value_counts)"
   ]
  },
  {
   "cell_type": "markdown",
   "id": "f6101dd7-c175-4f0b-ade2-12e92366584c",
   "metadata": {},
   "source": [
    "## 5. Conclussion"
   ]
  },
  {
   "cell_type": "markdown",
   "id": "80110a8d-8b72-41c2-821f-2f89812b5473",
   "metadata": {},
   "source": [
    "After the data analysis, it is clear to see that the crop most planted in the Karamoja area is Sorghum since a bigger percentage of the crop area has been set aside for growing the crop. It may be due to adaptability of the sorghum crop being that it is a hardy crop or also maybe, its what the community is used to growing over the years.\n",
    "\n",
    "\n",
    "I found that the maize crop generally did fairly well than despite being given less priority in the percentage of crop growing area allocated to the maize crop."
   ]
  },
  {
   "cell_type": "markdown",
   "id": "885e8f4a-854d-4f40-a742-f84013cfc694",
   "metadata": {},
   "source": [
    "## 6. Reccomendation"
   ]
  },
  {
   "cell_type": "markdown",
   "id": "34a7bfc4-58e7-4020-83d6-179814c5315a",
   "metadata": {},
   "source": [
    "1. I would reccomend that the NGO's would educate farmers in the Karamoja area do more maize farming, allocate more crop area to maize farming.\n",
    "2. I would reccomend that the NGO's educate and provide farmers with necessary tools to diversify production instead of depending on maize and sorghum.\n",
    "3. Because sorghum seems to do well in the region, i would reccomend the districts with low maize productivity to be encouraged to do more sorghum farming.\n",
    "4. I would reccomend the NGO's to focus on districts with low productivity like Moroto districts by encouraging other methods of farming that is not reliant on the weather patterns.\n",
    "5. I would also reccomend that large Districts like Kaabong and Napak, be allocated more farming resources in order to boost productivity and enhance food security in the Karamoja region."
   ]
  },
  {
   "cell_type": "code",
   "execution_count": null,
   "id": "06214485-ac74-47b1-8cfb-233370de9b1b",
   "metadata": {},
   "outputs": [],
   "source": []
  }
 ],
 "metadata": {
  "kernelspec": {
   "display_name": "Python 3 (ipykernel)",
   "language": "python",
   "name": "python3"
  },
  "language_info": {
   "codemirror_mode": {
    "name": "ipython",
    "version": 3
   },
   "file_extension": ".py",
   "mimetype": "text/x-python",
   "name": "python",
   "nbconvert_exporter": "python",
   "pygments_lexer": "ipython3",
   "version": "3.12.7"
  }
 },
 "nbformat": 4,
 "nbformat_minor": 5
}
